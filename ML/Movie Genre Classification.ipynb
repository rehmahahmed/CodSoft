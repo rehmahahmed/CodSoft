{
 "cells": [
  {
   "cell_type": "code",
   "execution_count": 1,
   "id": "3e257194-860c-4d10-90a0-689cc2626cc6",
   "metadata": {},
   "outputs": [],
   "source": [
    "import pandas as pd\n",
    "from sklearn.model_selection import train_test_split\n",
    "from sklearn.feature_extraction.text import TfidfVectorizer\n",
    "from sklearn.compose import ColumnTransformer\n",
    "from sklearn.pipeline import Pipeline\n",
    "from sklearn.naive_bayes import MultinomialNB\n",
    "from sklearn.linear_model import LogisticRegression\n",
    "from sklearn.svm import SVC\n",
    "from sklearn.metrics import accuracy_score, classification_report\n",
    "from sklearn.feature_extraction.text import CountVectorizer\n",
    "from sklearn.preprocessing import LabelEncoder\n",
    "from sklearn.ensemble import RandomForestClassifier\n",
    "from sklearn.metrics import accuracy_score"
   ]
  },
  {
   "cell_type": "code",
   "execution_count": 2,
   "id": "034a7a3d-c3f7-41e6-98e8-a016991ab5e1",
   "metadata": {},
   "outputs": [],
   "source": [
    "data = pd.read_csv('movie_data.csv')\n",
    "data = data[:500]\n",
    "data = data.drop(['Wiki Page'], axis=1)\n",
    "\n",
    "# Concatenate multiple text columns into a single text feature\n",
    "text_columns = ['Title', 'Origin/Ethnicity', 'Cast', 'Plot']\n",
    "data['Combined_Text'] = data[text_columns].fillna('').apply(lambda row: ' '.join(row), axis=1)\n",
    "\n",
    "# Split the data into features (X) and target (y)\n",
    "X_text = data['Combined_Text']\n",
    "y = data['Genre']\n",
    "\n",
    "# Convert text data into numerical vectors\n",
    "vectorizer = CountVectorizer()\n",
    "X = vectorizer.fit_transform(X_text)\n",
    "\n",
    "# Encode labels\n",
    "label_encoder = LabelEncoder()\n",
    "y_encoded = label_encoder.fit_transform(y)\n",
    "\n",
    "# Perform train-test split\n",
    "X_train, X_test, y_train, y_test = train_test_split(X, y_encoded, test_size=0.2, random_state=42)\n"
   ]
  },
  {
   "cell_type": "code",
   "execution_count": 3,
   "id": "0d198efa-cb43-4912-9ef3-6ed3b06f9196",
   "metadata": {
    "scrolled": true
   },
   "outputs": [
    {
     "name": "stdout",
     "output_type": "stream",
     "text": [
      "Overall Accuracy: 0.54\n",
      "                            precision    recall  f1-score   support\n",
      "\n",
      "                 adventure       0.00      0.00      0.00         3\n",
      "                 biography       0.00      0.00      0.00         2\n",
      "                    comedy       0.66      0.81      0.72        26\n",
      "              comedy drama       0.00      0.00      0.00         1\n",
      "              comedy short       0.00      0.00      0.00         1\n",
      "            comedy western       0.00      0.00      0.00         1\n",
      "               crime drama       0.00      0.00      0.00         4\n",
      "               documentary       0.00      0.00      0.00         1\n",
      "                     drama       0.48      1.00      0.65        32\n",
      "                      epic       0.00      0.00      0.00         1\n",
      "                   fantasy       0.00      0.00      0.00         1\n",
      "             fantasy drama       0.00      0.00      0.00         1\n",
      "                historical       0.00      0.00      0.00         2\n",
      "                    horror       0.00      0.00      0.00         1\n",
      "                   romance       0.00      0.00      0.00         4\n",
      "                     short       0.00      0.00      0.00         1\n",
      "short action/crime western       0.00      0.00      0.00         1\n",
      "              short comedy       0.00      0.00      0.00         1\n",
      "                   unknown       1.00      0.08      0.15        12\n",
      "                   western       0.00      0.00      0.00         4\n",
      "\n",
      "                  accuracy                           0.54       100\n",
      "                 macro avg       0.11      0.09      0.08       100\n",
      "              weighted avg       0.44      0.54      0.41       100\n",
      "\n"
     ]
    },
    {
     "name": "stderr",
     "output_type": "stream",
     "text": [
      "C:\\Users\\Admin\\AppData\\Local\\Programs\\Python\\Python311\\Lib\\site-packages\\sklearn\\metrics\\_classification.py:1469: UndefinedMetricWarning: Precision and F-score are ill-defined and being set to 0.0 in labels with no predicted samples. Use `zero_division` parameter to control this behavior.\n",
      "  _warn_prf(average, modifier, msg_start, len(result))\n",
      "C:\\Users\\Admin\\AppData\\Local\\Programs\\Python\\Python311\\Lib\\site-packages\\sklearn\\metrics\\_classification.py:1469: UndefinedMetricWarning: Precision and F-score are ill-defined and being set to 0.0 in labels with no predicted samples. Use `zero_division` parameter to control this behavior.\n",
      "  _warn_prf(average, modifier, msg_start, len(result))\n",
      "C:\\Users\\Admin\\AppData\\Local\\Programs\\Python\\Python311\\Lib\\site-packages\\sklearn\\metrics\\_classification.py:1469: UndefinedMetricWarning: Precision and F-score are ill-defined and being set to 0.0 in labels with no predicted samples. Use `zero_division` parameter to control this behavior.\n",
      "  _warn_prf(average, modifier, msg_start, len(result))\n"
     ]
    }
   ],
   "source": [
    "# Build and train the Naive Bayes classifier\n",
    "naive_bayes_classifier = MultinomialNB()\n",
    "naive_bayes_classifier.fit(X_train, y_train)\n",
    "\n",
    "# Make predictions on the test set\n",
    "y_pred = naive_bayes_classifier.predict(X_test)\n",
    "\n",
    "# Convert the encoded predictions back to text labels\n",
    "y_pred_labels = label_encoder.inverse_transform(y_pred)\n",
    "y_test_labels = label_encoder.inverse_transform(y_test)\n",
    "\n",
    "# Generate classification report\n",
    "class_report = classification_report(y_test_labels, y_pred_labels)\n",
    "\n",
    "# Calculate and print overall accuracy\n",
    "overall_accuracy = accuracy_score(y_test_labels, y_pred_labels)\n",
    "print(f'Overall Accuracy: {overall_accuracy:.2f}')\n",
    "\n",
    "# Print the classification report\n",
    "print(class_report)\n"
   ]
  },
  {
   "cell_type": "code",
   "execution_count": null,
   "id": "41281614-98ec-4ce6-b989-54a97a267b66",
   "metadata": {},
   "outputs": [],
   "source": []
  },
  {
   "cell_type": "code",
   "execution_count": null,
   "id": "5dfe4ebc-3df5-4681-8b11-fc9e34e2f22c",
   "metadata": {},
   "outputs": [],
   "source": []
  }
 ],
 "metadata": {
  "kernelspec": {
   "display_name": "Python 3 (ipykernel)",
   "language": "python",
   "name": "python3"
  },
  "language_info": {
   "codemirror_mode": {
    "name": "ipython",
    "version": 3
   },
   "file_extension": ".py",
   "mimetype": "text/x-python",
   "name": "python",
   "nbconvert_exporter": "python",
   "pygments_lexer": "ipython3",
   "version": "3.11.4"
  }
 },
 "nbformat": 4,
 "nbformat_minor": 5
}
